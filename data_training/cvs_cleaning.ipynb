{
 "cells": [
  {
   "cell_type": "markdown",
   "metadata": {},
   "source": [
    "# Cleaning GOG Game Data\n",
    "Cleaning up the 66MB GOG dataset from [Beastovest](https://www.kaggle.com/beastovest/gog-games-with-reviews) on Kaggle"
   ]
  },
  {
   "cell_type": "code",
   "execution_count": 20,
   "metadata": {},
   "outputs": [],
   "source": [
    "import json\n",
    "import csv"
   ]
  },
  {
   "cell_type": "code",
   "execution_count": 21,
   "metadata": {},
   "outputs": [],
   "source": [
    "# Defining collection of valid characters\n",
    "\n",
    "valid_chars = ['a', 'b', 'c', 'd', 'e', 'f', 'g', 'h', 'i', 'j', 'k', 'l', 'm', 'n', 'o', 'p', 'q', 'r', 's', 't', 'u', 'v', 'w', 'x', 'y', 'z', 0, 1, 2, 3, 4, 5, 6, 7, 8, 9, '!', ';', '.', '/', '?', '$', '#', '&', '(', ')', '-', '+', '-', ':', \"'\", '\"', '%', '*', '\\\\', '<', '>', ' ']"
   ]
  },
  {
   "cell_type": "code",
   "execution_count": 22,
   "metadata": {},
   "outputs": [],
   "source": [
    "# Converting JSON reviews to a CSV file\n",
    "with open('./movie_reviews.csv') as input_file:\n",
    "    contents = csv.DictReader(input_file)\n",
    "    \n",
    "    with open('cleaned_movie.csv', 'w') as output_file:\n",
    "\n",
    "        for movie_review in contents:\n",
    "            name = movie_review['movie_title']\n",
    "            # Replacing commas for CSV compatibility\n",
    "            name = name.replace(',', ';')\n",
    "            score = movie_review['individual_meta_score']\n",
    "            score = score.replace(',', ';')\n",
    "            text = movie_review['text']\n",
    "            text = text.replace(',', ';')\n",
    "\n",
    "                # Stripping most foreign languages and unusual characters\n",
    "            good = True\n",
    "            for char in text:\n",
    "                if char.lower() not in valid_chars:\n",
    "                    good = False\n",
    "                    break\n",
    "            if good:\n",
    "                output_file.write(f'{name}, {score}, {text}\\n')\n"
   ]
  },
  {
   "cell_type": "code",
   "execution_count": null,
   "metadata": {},
   "outputs": [],
   "source": []
  }
 ],
 "metadata": {
  "file_extension": ".py",
  "kernelspec": {
   "display_name": "Python 3",
   "language": "python",
   "name": "python3"
  },
  "language_info": {
   "codemirror_mode": {
    "name": "ipython",
    "version": 3
   },
   "file_extension": ".py",
   "mimetype": "text/x-python",
   "name": "python",
   "nbconvert_exporter": "python",
   "pygments_lexer": "ipython3",
   "version": "3.7.5"
  },
  "mimetype": "text/x-python",
  "name": "python",
  "npconvert_exporter": "python",
  "pygments_lexer": "ipython3",
  "version": 3
 },
 "nbformat": 4,
 "nbformat_minor": 4
}
